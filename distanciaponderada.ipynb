{
 "cells": [
  {
   "cell_type": "code",
   "execution_count": 5,
   "id": "afe2f654",
   "metadata": {},
   "outputs": [],
   "source": [
    "import numpy as np\n",
    "import random"
   ]
  },
  {
   "cell_type": "code",
   "execution_count": 2,
   "id": "e465bcd7",
   "metadata": {},
   "outputs": [],
   "source": [
    "def dw2diss(xi, xr, yr, pi_pos, pi_neg):\n",
    "   \n",
    "    m,n = xr.shape\n",
    "    dxr = np.linalg.norm(xr-xi, axis = 1)\n",
    "    return dxr"
   ]
  },
  {
   "cell_type": "code",
   "execution_count": 3,
   "id": "74967acb",
   "metadata": {},
   "outputs": [],
   "source": [
    "def load_dataset(nfile):\n",
    "    df = np.loadtxt(nfile,dtype='str')\n",
    "    return np.asarray(df[:,0:-1],dtype=float), np.asarray(df[:,-1],dtype=int)"
   ]
  },
  {
   "cell_type": "code",
   "execution_count": 20,
   "id": "cb03ab78",
   "metadata": {},
   "outputs": [],
   "source": [
    "def indices_minmay(ylabel):\n",
    "    idx_min = [index for (index, item) in enumerate(ylabel) if item == 0]\n",
    "    idx_may = [index for (index, item) in enumerate(ylabel) if item == 1]\n",
    "    \n",
    "    return idx_min, idx_may"
   ]
  },
  {
   "cell_type": "code",
   "execution_count": 21,
   "id": "488489b0",
   "metadata": {},
   "outputs": [
    {
     "name": "stdout",
     "output_type": "stream",
     "text": [
      "480 2\n",
      "80\n"
     ]
    }
   ],
   "source": [
    "fichero = 'datasets/03subcl5-600-5-0-bi/03subcl5-600-5-0-bi-5-1tra.prn'\n",
    "X,y = load_dataset(fichero)\n",
    "\n",
    "m,n = X.shape\n",
    "print(m,n)\n",
    "\n",
    "idpos, idneg = indices_minmay(y)\n",
    "\n",
    "print(len(idpos))"
   ]
  },
  {
   "cell_type": "code",
   "execution_count": null,
   "id": "99ecff72",
   "metadata": {},
   "outputs": [],
   "source": []
  }
 ],
 "metadata": {
  "kernelspec": {
   "display_name": "Python 3 (ipykernel)",
   "language": "python",
   "name": "python3"
  },
  "language_info": {
   "codemirror_mode": {
    "name": "ipython",
    "version": 3
   },
   "file_extension": ".py",
   "mimetype": "text/x-python",
   "name": "python",
   "nbconvert_exporter": "python",
   "pygments_lexer": "ipython3",
   "version": "3.9.13"
  }
 },
 "nbformat": 4,
 "nbformat_minor": 5
}
